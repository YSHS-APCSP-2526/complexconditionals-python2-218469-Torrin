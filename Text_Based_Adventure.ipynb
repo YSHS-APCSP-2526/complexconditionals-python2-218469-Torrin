{
  "nbformat": 4,
  "nbformat_minor": 0,
  "metadata": {
    "colab": {
      "provenance": [],
      "include_colab_link": true
    },
    "kernelspec": {
      "name": "python3",
      "display_name": "Python 3"
    },
    "language_info": {
      "name": "python"
    }
  },
  "cells": [
    {
      "cell_type": "markdown",
      "metadata": {
        "id": "view-in-github",
        "colab_type": "text"
      },
      "source": [
        "<a href=\"https://colab.research.google.com/github/YSHS-APCSP-2526/complexconditionals-python2-218469-Torrin/blob/main/Text_Based_Adventure.ipynb\" target=\"_parent\"><img src=\"https://colab.research.google.com/assets/colab-badge.svg\" alt=\"Open In Colab\"/></a>"
      ]
    },
    {
      "cell_type": "markdown",
      "source": [
        "#Requirements for text based adventure\n",
        "1. You must have at least 2 different \"paths\" that are at least 4 decisions in length\n",
        "2. Include an element of randomness (from the random library)\n",
        "3. Include a list that is core to the text based adventure\n",
        "4. Include a function that is called within your program that includes a while loop, and a parameter that influences a conditional statement in your function.\n",
        "5. Commented Code.\n",
        "6. A [digital flowchart](https://docs.google.com/document/d/1p2k3wL6gzjYWBuWxwEQptmbbOZZNsQrthlC12SNtYgY/edit?usp=sharing) that follows accepted symbols for representing code. You can use google slides or [draw.io](https://www.drawio.com/) for the flowchart."
      ],
      "metadata": {
        "id": "zpSmche7G_jy"
      }
    },
    {
      "cell_type": "code",
      "source": [
        "def intro():\n",
        "  response = input(\"You are running away from a killer through the forest, do you to hide or keep running: hide or keep running: \")\n",
        "  return response\n",
        "def next():\n",
        "  response = input(\"As you are running you can you could go into a old cabin: keep running or old cabin: \")\n",
        "  return response\n",
        "def run():\n",
        "  response = input(\"You find a road after running for a while: turn back, keep running, call for help: \")\n",
        "  return response"
      ],
      "metadata": {
        "id": "DToswc3clKpf"
      },
      "execution_count": 14,
      "outputs": []
    },
    {
      "cell_type": "code",
      "source": [
        "import random\n",
        "\n",
        "def random():\n",
        ""
      ],
      "metadata": {
        "id": "DjXGTvvAGMPf"
      },
      "execution_count": null,
      "outputs": []
    },
    {
      "cell_type": "code",
      "source": [
        "def choice1(response):\n",
        "  print(response)\n",
        "  if response ==\"keep running\":\n",
        "    print(\"you keep running\")\n",
        "  else:\n",
        "    print(\"the killer findes you (RESTART).\")\n",
        "def choice2(response):\n",
        "  print(response)\n",
        "  if response ==\"old cabin\":\n",
        "    print(\"you go inside the old cabin\")\n",
        "  else:\n",
        "    print(\"you keep running\")\n",
        "def choice3(response):\n",
        "  print(response)\n",
        "  if response ==\"turn back\":\n",
        "    print(\"you turn back and run right into the killer (RESTART).\")\n",
        "  elif response ==\"keep running\":\n",
        "    print(\"you run right into trafic and get hit by 1 semi and two SUV's (RESTART).\")\n",
        "  else:\n",
        "    print(\"you call for help and someone pulles over to give you a ride. You escaped.\")"
      ],
      "metadata": {
        "id": "_EdosxmH81_Y"
      },
      "execution_count": 20,
      "outputs": []
    },
    {
      "cell_type": "code",
      "source": [
        "def main():\n",
        "  response = intro()\n",
        "  choice1(response)\n",
        "  response = next()\n",
        "  choice2(response)\n",
        "  response = run()\n",
        "  choice3(response)"
      ],
      "metadata": {
        "id": "LQuG-KfJlMj3"
      },
      "execution_count": 6,
      "outputs": []
    },
    {
      "cell_type": "code",
      "source": [
        "#x=0\n",
        "\n",
        "#while x < 5:\n",
        "  #print(\"hello\")\n",
        "  #x = x +1"
      ],
      "metadata": {
        "id": "S-XoFWjaBsd6"
      },
      "execution_count": 4,
      "outputs": []
    },
    {
      "cell_type": "code",
      "source": [
        "#def responseValidator(response):\n",
        "  #while response !=\"yes\" and response !=\"no\":\n",
        "    #response = input(\"Invalid Response: please type yes or no: \")\n",
        "   # return response"
      ],
      "metadata": {
        "id": "ggIKVZurCaYS"
      },
      "execution_count": null,
      "outputs": []
    },
    {
      "cell_type": "code",
      "source": [
        "#def choice1():\n",
        "  #response1 = input(\"do you agree? yes or no\")\n",
        "  #response1 = responseValidator(response1)\n",
        "  #return response1"
      ],
      "metadata": {
        "id": "siH-d9k8DPFk"
      },
      "execution_count": null,
      "outputs": []
    },
    {
      "cell_type": "code",
      "source": [
        "main()"
      ],
      "metadata": {
        "colab": {
          "base_uri": "https://localhost:8080/"
        },
        "id": "gNSbWwYo6XHT",
        "outputId": "fcb9d922-8a0d-4002-db46-da1d15bf1ba2"
      },
      "execution_count": 22,
      "outputs": [
        {
          "output_type": "stream",
          "name": "stdout",
          "text": [
            "You are running away from a killer through the forest, do you to hide or keep running: hide or keep running: keep running\n",
            "keep running\n",
            "you keep running\n",
            "As you are running you can you could go into a old cabin: keep running or old cabin: keep running\n",
            "keep running\n",
            "you keep running\n",
            "You find a road after running for a while: turn back, keep running, call for help: turn back\n",
            "turn back\n",
            "you turn back and run right into the killer\n"
          ]
        }
      ]
    }
  ]
}